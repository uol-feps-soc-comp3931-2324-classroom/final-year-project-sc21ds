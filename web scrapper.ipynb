{
  "cells": [
    {
      "cell_type": "code",
      "execution_count": null,
      "metadata": {
        "id": "ve1MD7iS2f0O"
      },
      "outputs": [],
      "source": [
        "from time import sleep\n",
        "import selenium\n",
        "from selenium.webdriver.common.alert import Alert\n",
        "from selenium.webdriver.common.by import By\n",
        "import pandas as pd\n",
        "import time\n",
        "from selenium import webdriver\n",
        "from selenium.webdriver.common.by import By\n",
        "from selenium.webdriver.chrome.options import Options\n",
        "from selenium.webdriver.common.keys import Keys\n",
        "from selenium.webdriver.support.ui import WebDriverWait \n",
        "from selenium.webdriver.support import expected_conditions as EC\n",
        "from selenium.webdriver.support.ui import Select\n",
        "from selenium.webdriver.common.action_chains import ActionChains\n",
        "from selenium.common.exceptions import NoSuchElementException\n",
        "from selenium.webdriver.support.select import Select\n",
        "from webdriver_manager.chrome import ChromeDriverManager\n",
        "from bs4 import BeautifulSoup"
      ]
    },
    {
      "cell_type": "code",
      "execution_count": null,
      "metadata": {},
      "outputs": [],
      "source": [
        "driver = webdriver.Chrome()\n",
        "# Maximize the browser window\n",
        "driver.maximize_window()\n",
        "url = \"https://goodonyou.eco/category/all/\"\n",
        "driver.get(url)"
      ]
    },
    {
      "cell_type": "code",
      "execution_count": null,
      "metadata": {
        "colab": {
          "base_uri": "https://localhost:8080/",
          "height": 216
        },
        "id": "LbP6NHu52hzG",
        "outputId": "f743e36c-db0e-43e7-f2d8-461e8273dc0f"
      },
      "outputs": [],
      "source": [
        "time.sleep(10)"
      ]
    },
    {
      "cell_type": "code",
      "execution_count": null,
      "metadata": {},
      "outputs": [],
      "source": [
        "# Function to scroll to an element\n",
        "def scroll_to_element(element):\n",
        "    driver.execute_script(\"arguments[0].scrollIntoView(true);\", element)\n",
        "\n",
        "# Function to scroll the page a bit more up\n",
        "def scroll_page_up():\n",
        "    driver.execute_script(\"window.scrollBy(0, -300);\")  # Adjust the scroll amount as needed\n",
        "    time.sleep(2)\n",
        "\n",
        "# Function to click the \"Load More\" button\n",
        "def click_load_more_button():\n",
        "    try:\n",
        "        load_more_button = WebDriverWait(driver, 3).until(\n",
        "            EC.element_to_be_clickable((By.CLASS_NAME, \"load-more__button\"))\n",
        "        )\n",
        "        scroll_to_element(load_more_button)\n",
        "        scroll_page_up()  # Scroll a bit more up after clicking\n",
        "        load_more_button.click()\n",
        "    except Exception as e:\n",
        "        print(f\"Error clicking 'Load More' button: {e}\")\n",
        "\n",
        "# Click the \"Load More\" button until it's no longer present\n",
        "while True:\n",
        "    if len(driver.find_elements(By.CLASS_NAME, 'article-card__inner')) >900:\n",
        "        break\n",
        "    click_load_more_button()\n",
        "    driver.execute_script(\"window.scrollTo(0, document.body.scrollHeight);\")\n",
        "    time.sleep(1)  # Adjust the delay as needed\n",
        "    # Add a condition to break the loop when the button is no longer present\n",
        "    if not driver.find_elements(By.CLASS_NAME, \"load-more__button\"):\n",
        "        print(\"No more 'Load More' button found.\")\n",
        "        break"
      ]
    },
    {
      "cell_type": "code",
      "execution_count": null,
      "metadata": {},
      "outputs": [],
      "source": [
        "urls = []"
      ]
    },
    {
      "cell_type": "code",
      "execution_count": null,
      "metadata": {},
      "outputs": [],
      "source": [
        "for i in driver.find_elements(By.CLASS_NAME, 'article-card__inner'):\n",
        "    urls.append(i.get_attribute('href'))"
      ]
    },
    {
      "cell_type": "code",
      "execution_count": null,
      "metadata": {},
      "outputs": [],
      "source": [
        "urls"
      ]
    },
    {
      "cell_type": "code",
      "execution_count": null,
      "metadata": {},
      "outputs": [],
      "source": [
        "len(urls)\n",
        "for i in urls:\n",
        "    print(i)"
      ]
    },
    {
      "cell_type": "code",
      "execution_count": null,
      "metadata": {},
      "outputs": [],
      "source": [
        "# len(urls)\n",
        "titles = []\n",
        "contents = []\n",
        "article_content = []"
      ]
    },
    {
      "cell_type": "code",
      "execution_count": null,
      "metadata": {},
      "outputs": [],
      "source": [
        "for i in urls:\n",
        "    driver.get(i)\n",
        "    try:\n",
        "        # Wait for the title and content to load\n",
        "        time.sleep(1.4)\n",
        "        # Extract title and content\n",
        "        title_element = driver.find_element(By.CSS_SELECTOR, 'h1.article__title')\n",
        "        title = title_element.text.strip()\n",
        "\n",
        "        content_element = driver.find_element(By.CSS_SELECTOR, 'div.article__block')\n",
        "        content = content_element.text.strip()\n",
        "        titles.append(title)\n",
        "        contents.append(content)\n",
        "\n",
        "        article_content.append(driver.find_element(By.CLASS_NAME, 'article').text)\n",
        "    except:\n",
        "        pass\n",
        "    # break"
      ]
    },
    {
      "cell_type": "code",
      "execution_count": null,
      "metadata": {},
      "outputs": [],
      "source": [
        "# Create a DataFrame\n",
        "data = {\"Title\": titles, \"Content\": contents, \"Article Content\": article_content}\n",
        "df = pd.DataFrame(data)\n",
        "\n",
        "# Save DataFrame to Excel file\n",
        "df.to_excel(\"articles_data.csv\", index=False)"
      ]
    }
  ],
  "metadata": {
    "colab": {
      "provenance": []
    },
    "kernelspec": {
      "display_name": "Python 3",
      "name": "python3"
    },
    "language_info": {
      "codemirror_mode": {
        "name": "ipython",
        "version": 3
      },
      "file_extension": ".py",
      "mimetype": "text/x-python",
      "name": "python",
      "nbconvert_exporter": "python",
      "pygments_lexer": "ipython3",
      "version": "3.9.2"
    }
  },
  "nbformat": 4,
  "nbformat_minor": 0
}
